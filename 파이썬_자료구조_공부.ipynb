{
  "nbformat": 4,
  "nbformat_minor": 0,
  "metadata": {
    "colab": {
      "name": "파이썬_자료구조_공부.ipynb",
      "provenance": [],
      "collapsed_sections": [],
      "toc_visible": true
    },
    "kernelspec": {
      "name": "python3",
      "display_name": "Python 3"
    },
    "language_info": {
      "name": "python"
    }
  },
  "cells": [
    {
      "cell_type": "markdown",
      "source": [
        "# 01 알고리즘 기초"
      ],
      "metadata": {
        "id": "xqA0iLFAGd45"
      }
    },
    {
      "cell_type": "markdown",
      "source": [
        "## 01 - 1 알고리즘이란?"
      ],
      "metadata": {
        "id": "iNxHH2c38Hjm"
      }
    },
    {
      "cell_type": "markdown",
      "source": [
        "### 세 정수의 최댓값 구하기"
      ],
      "metadata": {
        "id": "siBEr0Nvt1Px"
      }
    },
    {
      "cell_type": "code",
      "execution_count": null,
      "metadata": {
        "colab": {
          "base_uri": "https://localhost:8080/"
        },
        "id": "0Hlb_u2l6L1x",
        "outputId": "4141ae28-f0f3-49a7-c4c5-2badf0144180"
      },
      "outputs": [
        {
          "output_type": "stream",
          "name": "stdout",
          "text": [
            "세 정수의 최댓값을 구합니다.\n",
            "정수 a의 값을 입력하시오.5\n",
            "정수 b의 값을 입력하시오.4\n",
            "정수 c의 값을 입력하시오.9\n",
            "최댓값은 9입니다.\n"
          ]
        }
      ],
      "source": [
        "print('세 정수의 최댓값을 구합니다.')\n",
        "a = int(input('정수 a의 값을 입력하시오.')) # 정수를 입력받기 위해 int형으로 변환. 본 형태 = input(문자, 문자열)\n",
        "b = int(input('정수 b의 값을 입력하시오.'))\n",
        "c = int(input('정수 c의 값을 입력하시오.'))\n",
        "\n",
        "maximum = a\n",
        "\n",
        "if b > maximum : \n",
        "  maximum = b\n",
        "if c > maximum : \n",
        "  maximum = c\n",
        "\n",
        "print(f'최댓값은 {maximum}입니다.')"
      ]
    },
    {
      "cell_type": "markdown",
      "source": [
        "### 문자열과 숫자 입력받기"
      ],
      "metadata": {
        "id": "ahaLt2Ekt7oI"
      }
    },
    {
      "cell_type": "code",
      "source": [
        "print('이름을 입력하세요 : ', end = '')\n",
        "name = input()\n",
        "print(f'안녕하세요? {name}님')"
      ],
      "metadata": {
        "colab": {
          "base_uri": "https://localhost:8080/"
        },
        "id": "qzq2pu9v6M0-",
        "outputId": "abe6d149-0a17-4d80-d6b9-c10ff5582048"
      },
      "execution_count": null,
      "outputs": [
        {
          "output_type": "stream",
          "name": "stdout",
          "text": [
            "이름을 입력하세요 : 은희수\n",
            "안녕하세요? 은희수님\n"
          ]
        }
      ]
    },
    {
      "cell_type": "markdown",
      "source": [
        "### 복합문 : if문이나 while문. 이들 뒤에 붙는 ':(콜론)'을 '헤더(header)'라고 한다.\n",
        "### 알고리즘 : 어떠한 문제를 해결하기 위해 정해 놓은 일련의 절차"
      ],
      "metadata": {
        "id": "N9fWJYIu_L6d"
      }
    },
    {
      "cell_type": "markdown",
      "source": [
        "### 들여쓰기 설명(이론)\n",
        "\n",
        "'''\n",
        "\n",
        "if a < b :\n",
        "\n",
        "    min2 = a\n",
        "    max2 = b\n",
        "'''\n",
        "\n",
        "위와 같이 헤더 이후 및 다음 구조문 시에는 4칸의 공백을 만들어 들여쓰기를 하자.\n",
        "헤더와 같은 행에 복합문을 둘 수 없다. if a < b : if c < d 같은 형식 금지."
      ],
      "metadata": {
        "id": "gDTP4tl7uDRg"
      }
    },
    {
      "cell_type": "markdown",
      "source": [
        "### 중앙값을 구하는 함수"
      ],
      "metadata": {
        "id": "lqiZdinLttux"
      }
    },
    {
      "cell_type": "code",
      "source": [
        "# 1\n",
        "\n",
        "def med1(a,b,c) :\n",
        "  \n",
        "  if a >= b:\n",
        "    if b >= c:\n",
        "      return b\n",
        "    \n",
        "    elif a <= c:\n",
        "      return a\n",
        "    \n",
        "    else :\n",
        "      return c\n",
        "\n",
        "  elif a > c :\n",
        "    return a\n",
        "  \n",
        "  elif b > c :\n",
        "    return c\n",
        "\n",
        "  else : \n",
        "    return b\n",
        "\n",
        "print('세 정수의 중앙값을 구합니다.')\n",
        "a = int(input('정수 a의 값을 입력하시오 : '))\n",
        "b = int(input('정수 b의 값을 입력하시오 : '))\n",
        "c = int(input('정수 c의 값을 입력하시오 : '))\n",
        "\n",
        "print(f'중앙값은 {med1(a,b,c)}입니다.')"
      ],
      "metadata": {
        "colab": {
          "base_uri": "https://localhost:8080/"
        },
        "id": "WW6tz3PP_-Dt",
        "outputId": "98c8ecb6-1789-4d37-d7db-5ac6210e939d"
      },
      "execution_count": null,
      "outputs": [
        {
          "output_type": "stream",
          "name": "stdout",
          "text": [
            "세 정수의 중앙값을 구합니다.\n",
            "정수 a의 값을 입력하시오 : 1\n",
            "정수 b의 값을 입력하시오 : 10\n",
            "정수 c의 값을 입력하시오 : 5\n",
            "중앙값은 5입니다.\n"
          ]
        }
      ]
    },
    {
      "cell_type": "code",
      "source": [
        "# 2 (비효율)\n",
        "\n",
        "def med2(a,b,c) : \n",
        "  \n",
        "  if ((b >= a) and (c <= a)) or ((b <= a) and (c >= a)) : # 효율적이지 않다. b가 a보다 크거나, b가 a보다 작은 경우를 if로 잡고 이가 거짓이라면 밑의 elif문을 쓰는데 elif는 이 판단을 수행할 필요가 없으므로 비효율\n",
        "    return a\n",
        "\n",
        "  elif ((a > b) and (c < b)) or ((a < b) and (c > b)) :\n",
        "    return b\n",
        "\n",
        "  return c\n",
        "\n",
        "print('세 정수의 중앙값을 구합니다.')\n",
        "a = int(input('정수 a의 값을 입력하시오 : '))\n",
        "b = int(input('정수 b의 값을 입력하시오 : '))\n",
        "c = int(input('정수 c의 값을 입력하시오 : '))\n",
        "\n",
        "print(f'중앙값은 {med2(a,b,c)}입니다.')"
      ],
      "metadata": {
        "colab": {
          "base_uri": "https://localhost:8080/"
        },
        "id": "fd44yaT-BjoV",
        "outputId": "eec15487-beb6-47f0-835b-3cc9ce734a92"
      },
      "execution_count": null,
      "outputs": [
        {
          "output_type": "stream",
          "name": "stdout",
          "text": [
            "세 정수의 중앙값을 구합니다.\n",
            "정수 a의 값을 입력하시오 : 5\n",
            "정수 b의 값을 입력하시오 : 2\n",
            "정수 c의 값을 입력하시오 : 3\n",
            "중앙값은 3입니다.\n"
          ]
        }
      ]
    },
    {
      "cell_type": "markdown",
      "source": [
        "###연산자 설명(이론)\n",
        "\n",
        "산술연산자 : +, - , > 등의 기호를 산술연산자라고 한다.\n",
        "\n",
        "피연산자 : 연산하는 대상을 피연산자라 한다. ex) a > b 식에 a나 b를 칭함.\n",
        "\n",
        "조건연산자 : if~else 문은 유일한 삼항 연산자. 피연산자의 개수에 따라 단항, 이항, 삼항 연산자로 나뉜다.**"
      ],
      "metadata": {
        "id": "Tuec_57rH3dm"
      }
    },
    {
      "cell_type": "markdown",
      "source": [
        "## 01 - 2 반복하는 알고리즘"
      ],
      "metadata": {
        "id": "pCS8ZBvNL8TK"
      }
    },
    {
      "cell_type": "markdown",
      "source": [
        "### 1부터 n까지 정수의 합 구하기"
      ],
      "metadata": {
        "id": "QFj9tGU6tbfp"
      }
    },
    {
      "cell_type": "code",
      "source": [
        "# while문\n",
        "\n",
        "print('1부터 n까지 정수의 합을 구합니다.')\n",
        "n = int(input('n값을 입력하세요 : '))\n",
        "\n",
        "sum = 0\n",
        "i = 1\n",
        "\n",
        "while i <= n : # 어떤 조건에서 반복적으로 처리하는걸 반복 구조라고 하고 일반적으로 루프라고 한다.\n",
        "  sum += i\n",
        "  i += 1\n",
        "\n",
        "print(f'1부터 {n}까지 정수의 합은 {sum}입니다.')"
      ],
      "metadata": {
        "id": "1xMdiTbq5qhf",
        "colab": {
          "base_uri": "https://localhost:8080/",
          "height": 584
        },
        "outputId": "736b6e4d-e61c-4eec-b541-f6298733b411"
      },
      "execution_count": null,
      "outputs": [
        {
          "output_type": "stream",
          "name": "stdout",
          "text": [
            "1부터 n까지 정수의 합을 구합니다.\n"
          ]
        },
        {
          "output_type": "error",
          "ename": "KeyboardInterrupt",
          "evalue": "ignored",
          "traceback": [
            "\u001b[0;31m---------------------------------------------------------------------------\u001b[0m",
            "\u001b[0;31mKeyboardInterrupt\u001b[0m                         Traceback (most recent call last)",
            "\u001b[0;32m/usr/local/lib/python3.7/dist-packages/ipykernel/kernelbase.py\u001b[0m in \u001b[0;36m_input_request\u001b[0;34m(self, prompt, ident, parent, password)\u001b[0m\n\u001b[1;32m    728\u001b[0m             \u001b[0;32mtry\u001b[0m\u001b[0;34m:\u001b[0m\u001b[0;34m\u001b[0m\u001b[0;34m\u001b[0m\u001b[0m\n\u001b[0;32m--> 729\u001b[0;31m                 \u001b[0mident\u001b[0m\u001b[0;34m,\u001b[0m \u001b[0mreply\u001b[0m \u001b[0;34m=\u001b[0m \u001b[0mself\u001b[0m\u001b[0;34m.\u001b[0m\u001b[0msession\u001b[0m\u001b[0;34m.\u001b[0m\u001b[0mrecv\u001b[0m\u001b[0;34m(\u001b[0m\u001b[0mself\u001b[0m\u001b[0;34m.\u001b[0m\u001b[0mstdin_socket\u001b[0m\u001b[0;34m,\u001b[0m \u001b[0;36m0\u001b[0m\u001b[0;34m)\u001b[0m\u001b[0;34m\u001b[0m\u001b[0;34m\u001b[0m\u001b[0m\n\u001b[0m\u001b[1;32m    730\u001b[0m             \u001b[0;32mexcept\u001b[0m \u001b[0mException\u001b[0m\u001b[0;34m:\u001b[0m\u001b[0;34m\u001b[0m\u001b[0;34m\u001b[0m\u001b[0m\n",
            "\u001b[0;32m/usr/local/lib/python3.7/dist-packages/jupyter_client/session.py\u001b[0m in \u001b[0;36mrecv\u001b[0;34m(self, socket, mode, content, copy)\u001b[0m\n\u001b[1;32m    802\u001b[0m         \u001b[0;32mtry\u001b[0m\u001b[0;34m:\u001b[0m\u001b[0;34m\u001b[0m\u001b[0;34m\u001b[0m\u001b[0m\n\u001b[0;32m--> 803\u001b[0;31m             \u001b[0mmsg_list\u001b[0m \u001b[0;34m=\u001b[0m \u001b[0msocket\u001b[0m\u001b[0;34m.\u001b[0m\u001b[0mrecv_multipart\u001b[0m\u001b[0;34m(\u001b[0m\u001b[0mmode\u001b[0m\u001b[0;34m,\u001b[0m \u001b[0mcopy\u001b[0m\u001b[0;34m=\u001b[0m\u001b[0mcopy\u001b[0m\u001b[0;34m)\u001b[0m\u001b[0;34m\u001b[0m\u001b[0;34m\u001b[0m\u001b[0m\n\u001b[0m\u001b[1;32m    804\u001b[0m         \u001b[0;32mexcept\u001b[0m \u001b[0mzmq\u001b[0m\u001b[0;34m.\u001b[0m\u001b[0mZMQError\u001b[0m \u001b[0;32mas\u001b[0m \u001b[0me\u001b[0m\u001b[0;34m:\u001b[0m\u001b[0;34m\u001b[0m\u001b[0;34m\u001b[0m\u001b[0m\n",
            "\u001b[0;32m/usr/local/lib/python3.7/dist-packages/zmq/sugar/socket.py\u001b[0m in \u001b[0;36mrecv_multipart\u001b[0;34m(self, flags, copy, track)\u001b[0m\n\u001b[1;32m    726\u001b[0m         \"\"\"\n\u001b[0;32m--> 727\u001b[0;31m         \u001b[0mparts\u001b[0m \u001b[0;34m=\u001b[0m \u001b[0;34m[\u001b[0m\u001b[0mself\u001b[0m\u001b[0;34m.\u001b[0m\u001b[0mrecv\u001b[0m\u001b[0;34m(\u001b[0m\u001b[0mflags\u001b[0m\u001b[0;34m,\u001b[0m \u001b[0mcopy\u001b[0m\u001b[0;34m=\u001b[0m\u001b[0mcopy\u001b[0m\u001b[0;34m,\u001b[0m \u001b[0mtrack\u001b[0m\u001b[0;34m=\u001b[0m\u001b[0mtrack\u001b[0m\u001b[0;34m)\u001b[0m\u001b[0;34m]\u001b[0m\u001b[0;34m\u001b[0m\u001b[0;34m\u001b[0m\u001b[0m\n\u001b[0m\u001b[1;32m    728\u001b[0m         \u001b[0;31m# have first part already, only loop while more to receive\u001b[0m\u001b[0;34m\u001b[0m\u001b[0;34m\u001b[0m\u001b[0;34m\u001b[0m\u001b[0m\n",
            "\u001b[0;32mzmq/backend/cython/socket.pyx\u001b[0m in \u001b[0;36mzmq.backend.cython.socket.Socket.recv\u001b[0;34m()\u001b[0m\n",
            "\u001b[0;32mzmq/backend/cython/socket.pyx\u001b[0m in \u001b[0;36mzmq.backend.cython.socket.Socket.recv\u001b[0;34m()\u001b[0m\n",
            "\u001b[0;32mzmq/backend/cython/socket.pyx\u001b[0m in \u001b[0;36mzmq.backend.cython.socket._recv_copy\u001b[0;34m()\u001b[0m\n",
            "\u001b[0;32m/usr/local/lib/python3.7/dist-packages/zmq/backend/cython/checkrc.pxd\u001b[0m in \u001b[0;36mzmq.backend.cython.checkrc._check_rc\u001b[0;34m()\u001b[0m\n",
            "\u001b[0;31mKeyboardInterrupt\u001b[0m: ",
            "\nDuring handling of the above exception, another exception occurred:\n",
            "\u001b[0;31mKeyboardInterrupt\u001b[0m                         Traceback (most recent call last)",
            "\u001b[0;32m<ipython-input-28-e588f4760bff>\u001b[0m in \u001b[0;36m<module>\u001b[0;34m()\u001b[0m\n\u001b[1;32m      2\u001b[0m \u001b[0;34m\u001b[0m\u001b[0m\n\u001b[1;32m      3\u001b[0m \u001b[0mprint\u001b[0m\u001b[0;34m(\u001b[0m\u001b[0;34m'1부터 n까지 정수의 합을 구합니다.'\u001b[0m\u001b[0;34m)\u001b[0m\u001b[0;34m\u001b[0m\u001b[0;34m\u001b[0m\u001b[0m\n\u001b[0;32m----> 4\u001b[0;31m \u001b[0mn\u001b[0m \u001b[0;34m=\u001b[0m \u001b[0mint\u001b[0m\u001b[0;34m(\u001b[0m\u001b[0minput\u001b[0m\u001b[0;34m(\u001b[0m\u001b[0;34m'n값을 입력하세요 : '\u001b[0m\u001b[0;34m)\u001b[0m\u001b[0;34m)\u001b[0m\u001b[0;34m\u001b[0m\u001b[0;34m\u001b[0m\u001b[0m\n\u001b[0m\u001b[1;32m      5\u001b[0m \u001b[0;34m\u001b[0m\u001b[0m\n\u001b[1;32m      6\u001b[0m \u001b[0msum\u001b[0m \u001b[0;34m=\u001b[0m \u001b[0;36m0\u001b[0m\u001b[0;34m\u001b[0m\u001b[0;34m\u001b[0m\u001b[0m\n",
            "\u001b[0;32m/usr/local/lib/python3.7/dist-packages/ipykernel/kernelbase.py\u001b[0m in \u001b[0;36mraw_input\u001b[0;34m(self, prompt)\u001b[0m\n\u001b[1;32m    702\u001b[0m             \u001b[0mself\u001b[0m\u001b[0;34m.\u001b[0m\u001b[0m_parent_ident\u001b[0m\u001b[0;34m,\u001b[0m\u001b[0;34m\u001b[0m\u001b[0;34m\u001b[0m\u001b[0m\n\u001b[1;32m    703\u001b[0m             \u001b[0mself\u001b[0m\u001b[0;34m.\u001b[0m\u001b[0m_parent_header\u001b[0m\u001b[0;34m,\u001b[0m\u001b[0;34m\u001b[0m\u001b[0;34m\u001b[0m\u001b[0m\n\u001b[0;32m--> 704\u001b[0;31m             \u001b[0mpassword\u001b[0m\u001b[0;34m=\u001b[0m\u001b[0;32mFalse\u001b[0m\u001b[0;34m,\u001b[0m\u001b[0;34m\u001b[0m\u001b[0;34m\u001b[0m\u001b[0m\n\u001b[0m\u001b[1;32m    705\u001b[0m         )\n\u001b[1;32m    706\u001b[0m \u001b[0;34m\u001b[0m\u001b[0m\n",
            "\u001b[0;32m/usr/local/lib/python3.7/dist-packages/ipykernel/kernelbase.py\u001b[0m in \u001b[0;36m_input_request\u001b[0;34m(self, prompt, ident, parent, password)\u001b[0m\n\u001b[1;32m    732\u001b[0m             \u001b[0;32mexcept\u001b[0m \u001b[0mKeyboardInterrupt\u001b[0m\u001b[0;34m:\u001b[0m\u001b[0;34m\u001b[0m\u001b[0;34m\u001b[0m\u001b[0m\n\u001b[1;32m    733\u001b[0m                 \u001b[0;31m# re-raise KeyboardInterrupt, to truncate traceback\u001b[0m\u001b[0;34m\u001b[0m\u001b[0;34m\u001b[0m\u001b[0;34m\u001b[0m\u001b[0m\n\u001b[0;32m--> 734\u001b[0;31m                 \u001b[0;32mraise\u001b[0m \u001b[0mKeyboardInterrupt\u001b[0m\u001b[0;34m\u001b[0m\u001b[0;34m\u001b[0m\u001b[0m\n\u001b[0m\u001b[1;32m    735\u001b[0m             \u001b[0;32melse\u001b[0m\u001b[0;34m:\u001b[0m\u001b[0;34m\u001b[0m\u001b[0;34m\u001b[0m\u001b[0m\n\u001b[1;32m    736\u001b[0m                 \u001b[0;32mbreak\u001b[0m\u001b[0;34m\u001b[0m\u001b[0;34m\u001b[0m\u001b[0m\n",
            "\u001b[0;31mKeyboardInterrupt\u001b[0m: "
          ]
        }
      ]
    },
    {
      "cell_type": "code",
      "source": [
        "# for문\n",
        "\n",
        "print('1부터 n까지 정수의 합을 구합니다.')\n",
        "n = int(input('n값을 입력하세요 : '))\n",
        "\n",
        "sum = 0\n",
        "\n",
        "for i in range(1, n+1):\n",
        "  sum += i # sum에 i를 더함\n",
        "\n",
        "print(f'1부터 {n}까지 정수의 합은 {sum}입니다.')"
      ],
      "metadata": {
        "id": "anDKgUBDLrWb"
      },
      "execution_count": null,
      "outputs": []
    },
    {
      "cell_type": "markdown",
      "source": [
        "### range()함수 활용법(이론)\n",
        "\n",
        "range(n) : 0이상 n 미만인 수를 차례로 나열하는 수열. ex) range(5) = 0,1,2,3,4\n",
        "\n",
        "range(a,b) : a 이상 b 미만인 수를 차례로 나열하는 수열. ex) range(1,6) = 1,2,3,4,5\n",
        "\n",
        "range(a,b,step) : a 이상 b 미만인 수를 step 간격으로 나열하는 수열. ex) range(0,10,2) = 0,2,4,6,8"
      ],
      "metadata": {
        "id": "UnWEuOjGRqKV"
      }
    },
    {
      "cell_type": "markdown",
      "source": [
        "### a부터 b까지 정수의 합 구하기"
      ],
      "metadata": {
        "id": "-L6jU9uksV2A"
      }
    },
    {
      "cell_type": "code",
      "source": [
        "# for문\n",
        "\n",
        "print('a부터 b까지 정수의 합을 구합니다.')\n",
        "a = int(input('정수 a를 입력하시오 : '))\n",
        "b = int(input('정수 b를 입력하시오 : '))\n",
        "\n",
        "if a > b :\n",
        "  a,b = b,a # a와 b를 오름차순으로 정렬. a와 b의 변수값이 바뀜. '단일대입문'이라고 한다.\n",
        "\n",
        "sum = 0\n",
        "\n",
        "for i in range(a, b+1) :\n",
        "  sum += i\n",
        "  print(i)\n",
        "\n",
        "print(f'{a}부터 {b}까지 정수의 합은 {sum}입니다.')"
      ],
      "metadata": {
        "id": "036XCudeOwUx"
      },
      "execution_count": null,
      "outputs": []
    },
    {
      "cell_type": "code",
      "source": [
        "# 복합문 - 1\n",
        "\n",
        "print('a부터 b까지 정수의 합을 구합니다.')\n",
        "a = int(input('정수 a를 입력하시오 : '))\n",
        "b = int(input('정수 b를 입력하시오 : '))\n",
        "\n",
        "if a > b :\n",
        "  a,b = b,a\n",
        "\n",
        "sum = 0\n",
        "\n",
        "for i in range(a, b+1):\n",
        "  if i < b :\n",
        "    print(f'{i} + ', end = '')\n",
        "  else : \n",
        "    print(f'{i} = ', end = '')\n",
        "\n",
        "  sum += i\n",
        "\n",
        "print(sum)"
      ],
      "metadata": {
        "id": "-dcRCv0yTHV6"
      },
      "execution_count": null,
      "outputs": []
    },
    {
      "cell_type": "code",
      "source": [
        "# 복합문 - 2\n",
        "\n",
        "print('a부터 b까지 정수의 합을 구합니다.')\n",
        "a = int(input('정수 a를 입력하시오 : '))\n",
        "b = int(input('정수 b를 입력하시오 : '))\n",
        "\n",
        "if a > b :\n",
        "  a,b = b,a\n",
        "\n",
        "sum = 0\n",
        "\n",
        "for i in range(a,b) : \n",
        "  print(f'{i} + ', end = '') \n",
        "  sum += i\n",
        "\n",
        "print(f'{b} = ', end = '')\n",
        "sum += b\n",
        "\n",
        "print(sum)\n",
        "\n",
        "'''\n",
        "i와 b의 비교가 없기 때문에 알고리즘 측면에서 더 효율이 좋다. 비교 판단 횟수가 n번에서 0번으로 바뀌며 반복 횟수도 1회 감소."
      ],
      "metadata": {
        "id": "lo1x4gi5Uuz_"
      },
      "execution_count": null,
      "outputs": []
    },
    {
      "cell_type": "markdown",
      "source": [
        "### +와 -를 번갈아 출력하기"
      ],
      "metadata": {
        "id": "hcffsAHqse7Y"
      }
    },
    {
      "cell_type": "code",
      "source": [
        "# 1\n",
        "\n",
        "print('+와 -를 번갈아 출력합니다.')\n",
        "n = int(input('몇 개를 출력할까요? : '))\n",
        "\n",
        "for i in range(n) :\n",
        "  if i % 2 :\n",
        "    print('-', end = '')\n",
        "  else : \n",
        "    print('+', end = '')\n",
        "\n",
        "print()\n",
        "\n",
        "'''\n",
        "for 문을 반복 할 때마다 if 문을 수행한다. n이 50,000번이면 50,000번 수행한다."
      ],
      "metadata": {
        "id": "26V8iZJgWU9d"
      },
      "execution_count": null,
      "outputs": []
    },
    {
      "cell_type": "code",
      "source": [
        "# 1(+와 -의 순번 변경)\n",
        "\n",
        "print('+와 -를 번갈아 출력합니다.')\n",
        "n = int(input('몇 개를 출력할까요? : '))\n",
        "\n",
        "for i in range(1, n + 1) :\n",
        "  if i % 2 :\n",
        "    print('+', end = '')\n",
        "  else :\n",
        "    print('-', end = '')\n",
        "\n",
        "print()"
      ],
      "metadata": {
        "id": "3OEOdXGZrTww"
      },
      "execution_count": null,
      "outputs": []
    },
    {
      "cell_type": "code",
      "source": [
        "# 2\n",
        "\n",
        "print('+와 -를 번갈아 출력합니다.')\n",
        "n = int(input('몇 개를 출력할까요? : '))\n",
        "\n",
        "for _ in range (n//2) :\n",
        "  print('+-', end = '')\n",
        "\n",
        "if n % 2 :\n",
        "  print('+', end = '')\n",
        "\n",
        "print()\n",
        "\n",
        "'''\n",
        "for문 반복은 n // 2 번, 나눗셈은 2번, if문 판단은 1번 한다."
      ],
      "metadata": {
        "id": "HchnMojitDlA"
      },
      "execution_count": null,
      "outputs": []
    },
    {
      "cell_type": "markdown",
      "source": [
        "### *을 n개 출력하되 w개마다 줄바꿈하기"
      ],
      "metadata": {
        "id": "j7rkb1-ahmGs"
      }
    },
    {
      "cell_type": "code",
      "source": [
        "# 1\n",
        "\n",
        "print('*를 출력합니다.')\n",
        "n = int(input('몇 개를 출력할까요? : '))\n",
        "w = int(input('몇 개마다 줄바꿈할까요? : '))\n",
        "\n",
        "for i in range(n):\n",
        "  print('*', end = '')\n",
        "  if i % w == w - 1 :  # w - 1 으로 줄바꿈이 4개 간격이면 0,1,2,3 으로 \n",
        "    print()\n",
        "\n",
        "if n % w :\n",
        "  print()\n",
        "\n",
        "'''\n",
        "for 문을 반복 할 때마다 if 문을 실행하므로 효율성이 떨어진다. "
      ],
      "metadata": {
        "id": "eUKNOiCbhlZt"
      },
      "execution_count": null,
      "outputs": []
    },
    {
      "cell_type": "code",
      "source": [
        "# 2\n",
        "\n",
        "print('*를 출력합니다.')\n",
        "n = int(input('몇 개를 출력할까요? : '))\n",
        "w = int(input('몇 개마다 줄바꿈할까요? : '))\n",
        "\n",
        "for _ in range(n//w):\n",
        "  print('*', * w)\n",
        "\n",
        "rest = n % w\n",
        "if rest :\n",
        "  print('*', * rest)"
      ],
      "metadata": {
        "id": "YyHMKQxuFsDn"
      },
      "execution_count": null,
      "outputs": []
    },
    {
      "cell_type": "markdown",
      "source": [
        "### 1부터 n까지 정수의 합 구하기(양수만 입력받음)"
      ],
      "metadata": {
        "id": "Cfsu7H0GG46o"
      }
    },
    {
      "cell_type": "code",
      "source": [
        "print('1부터 n까지 정수의 합을 구합니다.')\n",
        "\n",
        "while True : # 무한반복. while문 안에 정지할 만한 요소가 있으면 종료된다.\n",
        "  n = int(input('n값을 입력하세요 : '))\n",
        "  if n > 0 :\n",
        "    break # n의 값이 0보다 크면 반복문 종료.\n",
        "\n",
        "sum = 0\n",
        "i = 1\n",
        "\n",
        "for i in range(1, n+1) :\n",
        "  sum += i\n",
        "  i += 1\n",
        "\n",
        "print(f'1부터 {n}까지의 정수의 합은 {sum}입니다.')"
      ],
      "metadata": {
        "id": "od9bvknhHO1Q"
      },
      "execution_count": null,
      "outputs": []
    },
    {
      "cell_type": "markdown",
      "source": [
        "### while문과 for문의 차이(이론)\n",
        "\n",
        "while문은 while i <= n : 일 때 반복 종료시 i는 'n + 1' 이다.\n",
        "\n",
        "for문은 for i in range(시작값, n + 1) : 일 때 반복 종료시 i는 'n' 이다.\n",
        "\n",
        "while문과 for문의 시행 범위를 유념하자."
      ],
      "metadata": {
        "id": "GSLSnFCiIi7_"
      }
    },
    {
      "cell_type": "markdown",
      "source": [
        "### 가로, 세로 길이가 정수이고 넓이가 area인 직사각형에서 변의 길이 나열하기"
      ],
      "metadata": {
        "id": "q6h6fQrnJGgI"
      }
    },
    {
      "cell_type": "code",
      "source": [
        "area = int(input('직사각형의 넓이를 입력하세요 : '))\n",
        "\n",
        "for i in range(1, area + 1):\n",
        "  if i * i > area :  # i * i 가 area를 넘으면 종료. ex) area = 32 에서 i = 6 이면 6 * 6 = 36 > 32 므로 break(중단 후 해당 반복문 종료)\n",
        "    break\n",
        "  if area % i :  # area % i != 0 으로도 표현 가능. 나누어 떨어지지 않을 경우 그냥 넘어간다.\n",
        "    continue\n",
        "  print(f'{i} * {area//i}')"
      ],
      "metadata": {
        "id": "C8SHDLN2ICuf"
      },
      "execution_count": null,
      "outputs": []
    },
    {
      "cell_type": "markdown",
      "source": [
        "### 10~99 사이의 난수 n개 생성하기(13이 나오면 중단)"
      ],
      "metadata": {
        "id": "cqBcMIDNNIy5"
      }
    },
    {
      "cell_type": "code",
      "source": [
        "import random # random 모듈\n",
        "\n",
        "n = int(input('난수의 개수를 입력하세요 : '))\n",
        "\n",
        "for _ in range(n):\n",
        "  r = random.randint(10,99)  # range 함수와는 달리 마지막 숫자 - 1 까지가 아닌 10~99 범위의 숫자를 인식.\n",
        "  print(r, end = ' ')\n",
        "  if r == 13 :\n",
        "    print('\\n프로그램을 중단합니다.')\n",
        "    break\n",
        "  \n",
        "else :  # for 문 안에서의 r == 13 조건이 충족되면 break 되면서 else 문의 실행이 안됨. r == 13 조건이 충족 안된다면 else 문이 작동한다.\n",
        "    print('\\n난수 생성을 종료합니다.')\n"
      ],
      "metadata": {
        "id": "R95T4hXBtOGZ"
      },
      "execution_count": null,
      "outputs": []
    },
    {
      "cell_type": "markdown",
      "source": [
        "### 1~12 까지 8을 건너뛰고 출력하기"
      ],
      "metadata": {
        "id": "jAMtEVY6vzAO"
      }
    },
    {
      "cell_type": "code",
      "source": [
        "# 1 \n",
        "\n",
        "for i in range(1,13):\n",
        "  if i == 8:\n",
        "    continue\n",
        "  print(i, end = ' ')\n",
        "\n",
        "print()\n",
        "\n",
        "'''\n",
        "비 효율적이다. 건너뛰는 판단을 하려면 비용이 많이 든다. 12까지 12번의 if 문 판단을 함.\n",
        "건너뛰어야 하는 값을 모르거나, 건너뛰어야 하는 값이 변화한다면 매번 if, continue 문을 사용해야 한다.\n",
        "'''"
      ],
      "metadata": {
        "id": "YVJlER3jtV7_"
      },
      "execution_count": null,
      "outputs": []
    },
    {
      "cell_type": "code",
      "source": [
        "# 2 \n",
        "\n",
        "for i in list(range(1,8)) + list(range(9,13)) :\n",
        "  print(i, end = ' ')\n",
        "\n",
        "print()\n",
        "\n",
        "'''\n",
        "비교에 비용이 들지 않는다. \n",
        "다만 for 문은 생성한 리스트의 원소를 하나씩 꺼내 반복하므로 반복을 위한 연산 비용은 발생함.\n",
        "'''"
      ],
      "metadata": {
        "id": "8l_o1DLywx8u"
      },
      "execution_count": null,
      "outputs": []
    },
    {
      "cell_type": "markdown",
      "source": [
        "### 2자리 양수(10~99) 입력받기"
      ],
      "metadata": {
        "id": "bcfTSw1Qxhqx"
      }
    },
    {
      "cell_type": "code",
      "source": [
        "print('2자리 양수를 입력하세요.')\n",
        "\n",
        "while True :\n",
        "  no = int(input('값을 입력하세요 : '))\n",
        "  if no >= 10 and no <= 99 :\n",
        "    break\n",
        "\n",
        "print(f'입력받는 양수는 {no}입니다.')"
      ],
      "metadata": {
        "id": "OQs5QVkaxhJi"
      },
      "execution_count": null,
      "outputs": []
    },
    {
      "cell_type": "markdown",
      "source": [
        "### 드모르간의 법칙(이론)\n",
        "\n",
        "드모르간의 법칙은 '각 조건을 부정하고 논리곱을 논리합으로, 논리합을 논리곱으로 바꾸고 다시 전체를 부정하면 원래의 조건과 같다' 이다.\n",
        "\n",
        "if no >= 10 and no <= 99는 if 10 <= no <= 99 로도 표현 가능하며,\n",
        "\n",
        "if not(no < 10 or no > 99)처럼 드모르간 법칙을 사용한 표현도 가능하다."
      ],
      "metadata": {
        "id": "4_nhTdq5yIoL"
      }
    },
    {
      "cell_type": "markdown",
      "source": [
        "### 구구단 곱셈표 출력하기"
      ],
      "metadata": {
        "id": "dfPu0XMm0dpZ"
      }
    },
    {
      "cell_type": "code",
      "source": [
        "print('-' * 40)\n",
        "\n",
        "for i in range(1,10) :\n",
        "  for j in range(1, 10) :\n",
        "    print(f'{i * j : 4}', end = '')  # j 뒤의 : 4 는 다음 값도 포함한 4이므로 3칸의 공백 생성. 만약 2자리 수라면 2칸의 공백 생성.\n",
        "  print()\n",
        "\n",
        "print('-' * 40)"
      ],
      "metadata": {
        "colab": {
          "base_uri": "https://localhost:8080/"
        },
        "id": "olztIRfoy6zj",
        "outputId": "6b9892bd-9dda-4114-84a4-97548d122bbd"
      },
      "execution_count": null,
      "outputs": [
        {
          "output_type": "stream",
          "name": "stdout",
          "text": [
            "----------------------------------------\n",
            "   1   2   3   4   5   6   7   8   9\n",
            "   2   4   6   8  10  12  14  16  18\n",
            "   3   6   9  12  15  18  21  24  27\n",
            "   4   8  12  16  20  24  28  32  36\n",
            "   5  10  15  20  25  30  35  40  45\n",
            "   6  12  18  24  30  36  42  48  54\n",
            "   7  14  21  28  35  42  49  56  63\n",
            "   8  16  24  32  40  48  56  64  72\n",
            "   9  18  27  36  45  54  63  72  81\n",
            "----------------------------------------\n"
          ]
        }
      ]
    },
    {
      "cell_type": "markdown",
      "source": [
        "### 왼쪽 아래가 직각인 이등변 삼각형으로 * 출력하기"
      ],
      "metadata": {
        "id": "KoDkWboG1p7-"
      }
    },
    {
      "cell_type": "code",
      "source": [
        "print('왼쪽 아래가 직각인 이등변 삼각형을 출력합니다.')\n",
        "n = int(input('짧은 변의 길이를 입력하세요 : '))\n",
        "\n",
        "for i in range(n):\n",
        "  for j in range(i+1):\n",
        "    print('*', end = '')\n",
        "  print() # 행 변경"
      ],
      "metadata": {
        "colab": {
          "base_uri": "https://localhost:8080/"
        },
        "id": "zpZxSIxd-WvB",
        "outputId": "b655b00c-6d67-4435-e812-894d39969a03"
      },
      "execution_count": null,
      "outputs": [
        {
          "output_type": "stream",
          "name": "stdout",
          "text": [
            "왼쪽 아래가 직각인 이등변 삼각형을 출력합니다.\n",
            "짧은 변의 길이를 입력하세요 : 3\n",
            "*\n",
            "**\n",
            "***\n"
          ]
        }
      ]
    },
    {
      "cell_type": "markdown",
      "source": [
        "### 오른쪽 아래가 직각인 이등변 삼각형으로 * 출력하기"
      ],
      "metadata": {
        "id": "rMajt0abACLf"
      }
    },
    {
      "cell_type": "code",
      "source": [
        "print('오른쪽 아래가 직각인 이등변 삼각형으로 * 출력하기')\n",
        "n = int(input('짧은 변의 길이를 입력하세요 : '))\n",
        "\n",
        "for i in range(n):\n",
        "  for _ in range(n - i - 1):\n",
        "    print(' ', end = '')\n",
        "  for _ in range(i+1) :\n",
        "    print('*', end = '')\n",
        "  print()"
      ],
      "metadata": {
        "colab": {
          "base_uri": "https://localhost:8080/"
        },
        "id": "3imIkzhkAGSm",
        "outputId": "0a150e29-537b-4475-e5ee-8714697abe59"
      },
      "execution_count": null,
      "outputs": [
        {
          "output_type": "stream",
          "name": "stdout",
          "text": [
            "오른쪽 아래가 직각인 이등변 삼각형으로 * 출력하기\n",
            "짧은 변의 길이를 입력하세요 : 5\n",
            "    *\n",
            "   **\n",
            "  ***\n",
            " ****\n",
            "*****\n"
          ]
        }
      ]
    },
    {
      "cell_type": "markdown",
      "source": [
        "### 파이썬의 변수 알아보기 - 1(이론)\n",
        "\n",
        "python에서는 데이터, 함수, 클래스, 모듈, 패키지 등을 모두 객체로 취급함.\n",
        "\n",
        "객체는 자료형을 가지며 메모리를 차지함.\n",
        "\n",
        "python은 이러한 특징 때문에 python의 변수는 값을 가지지 않는다.\n",
        "\n",
        "ex) x = 17 에서 x가 17이라는 값을 가진다고 말할 수 없다.\n",
        "\n",
        "모든 객체는 메모리를 차지하고, 자료형뿐만 아니라 식별 번호(identity)를 가진다."
      ],
      "metadata": {
        "id": "0ocGDJDBCUsV"
      }
    },
    {
      "cell_type": "markdown",
      "source": [
        "### 파이썬의 변수 알아보기 - 2(이론)\n",
        "\n",
        "id 함수는 객체의 고유 값을 리턴한다.\n",
        "\n",
        "ex) n = 17, id(17) = 140910805205776 이다. id(n) = 140910805205776 인걸 알 수 있는데, \n",
        "\n",
        "id(n) = 17이 아닌 이유가 값을 복사하여 대입하지 않는 점에 있다. (참고로 ide에 따라 조금씩 값이 다름)\n",
        "\n",
        "정수 리터럴 17의 식별 번호와 n의 식별 번호가 같다고 할 수 있음.\n",
        "\n",
        "변수에 값을 복사 = x, 객체에 이름을 부여 = o"
      ],
      "metadata": {
        "id": "TvrQ_rHZH_KC"
      }
    },
    {
      "cell_type": "markdown",
      "source": [
        "### 함수 내부, 외부에서 정의한 변수와 객체의 식별 번호를 출력하기"
      ],
      "metadata": {
        "id": "xIU0G_wNLpjH"
      }
    },
    {
      "cell_type": "code",
      "source": [
        "n = 1   # 전역 변수(함수 내부, 외부에서 사용)\n",
        "\n",
        "def put_id():\n",
        "  x = 1  # 지역 변수(함수 내부에서만 사용)\n",
        "  print(f'id(x) = {id(x)}')\n",
        "\n",
        "print(f'id(1) = {id(1)}')\n",
        "print(f'id(n) = {id(n)}')\n",
        "put_id()"
      ],
      "metadata": {
        "colab": {
          "base_uri": "https://localhost:8080/"
        },
        "id": "dW9gPeBsLo-Q",
        "outputId": "41f0787c-123a-4e06-daf3-b4b01117d5ad"
      },
      "execution_count": null,
      "outputs": [
        {
          "output_type": "stream",
          "name": "stdout",
          "text": [
            "id(1) = 11256064\n",
            "id(n) = 11256064\n",
            "id(x) = 11256064\n"
          ]
        }
      ]
    },
    {
      "cell_type": "markdown",
      "source": [
        "### 1부터 100까지 반복하여 출력하기"
      ],
      "metadata": {
        "id": "NEhhWAi5MIHA"
      }
    },
    {
      "cell_type": "code",
      "source": [
        "for i in range(1, 101) :\n",
        "  print(f'i = {i:3}  id(i) = {id(i)}')"
      ],
      "metadata": {
        "colab": {
          "base_uri": "https://localhost:8080/"
        },
        "id": "sqotG7UKMR0g",
        "outputId": "11744071-6575-4c43-c1ad-24c3f33d95db"
      },
      "execution_count": null,
      "outputs": [
        {
          "output_type": "stream",
          "name": "stdout",
          "text": [
            "i =   1  id(i) = 11256064\n",
            "i =   2  id(i) = 11256096\n",
            "i =   3  id(i) = 11256128\n",
            "i =   4  id(i) = 11256160\n",
            "i =   5  id(i) = 11256192\n",
            "i =   6  id(i) = 11256224\n",
            "i =   7  id(i) = 11256256\n",
            "i =   8  id(i) = 11256288\n",
            "i =   9  id(i) = 11256320\n",
            "i =  10  id(i) = 11256352\n",
            "i =  11  id(i) = 11256384\n",
            "i =  12  id(i) = 11256416\n",
            "i =  13  id(i) = 11256448\n",
            "i =  14  id(i) = 11256480\n",
            "i =  15  id(i) = 11256512\n",
            "i =  16  id(i) = 11256544\n",
            "i =  17  id(i) = 11256576\n",
            "i =  18  id(i) = 11256608\n",
            "i =  19  id(i) = 11256640\n",
            "i =  20  id(i) = 11256672\n",
            "i =  21  id(i) = 11256704\n",
            "i =  22  id(i) = 11256736\n",
            "i =  23  id(i) = 11256768\n",
            "i =  24  id(i) = 11256800\n",
            "i =  25  id(i) = 11256832\n",
            "i =  26  id(i) = 11256864\n",
            "i =  27  id(i) = 11256896\n",
            "i =  28  id(i) = 11256928\n",
            "i =  29  id(i) = 11256960\n",
            "i =  30  id(i) = 11256992\n",
            "i =  31  id(i) = 11257024\n",
            "i =  32  id(i) = 11257056\n",
            "i =  33  id(i) = 11257088\n",
            "i =  34  id(i) = 11257120\n",
            "i =  35  id(i) = 11257152\n",
            "i =  36  id(i) = 11257184\n",
            "i =  37  id(i) = 11257216\n",
            "i =  38  id(i) = 11257248\n",
            "i =  39  id(i) = 11257280\n",
            "i =  40  id(i) = 11257312\n",
            "i =  41  id(i) = 11257344\n",
            "i =  42  id(i) = 11257376\n",
            "i =  43  id(i) = 11257408\n",
            "i =  44  id(i) = 11257440\n",
            "i =  45  id(i) = 11257472\n",
            "i =  46  id(i) = 11257504\n",
            "i =  47  id(i) = 11257536\n",
            "i =  48  id(i) = 11257568\n",
            "i =  49  id(i) = 11257600\n",
            "i =  50  id(i) = 11257632\n",
            "i =  51  id(i) = 11257664\n",
            "i =  52  id(i) = 11257696\n",
            "i =  53  id(i) = 11257728\n",
            "i =  54  id(i) = 11257760\n",
            "i =  55  id(i) = 11257792\n",
            "i =  56  id(i) = 11257824\n",
            "i =  57  id(i) = 11257856\n",
            "i =  58  id(i) = 11257888\n",
            "i =  59  id(i) = 11257920\n",
            "i =  60  id(i) = 11257952\n",
            "i =  61  id(i) = 11257984\n",
            "i =  62  id(i) = 11258016\n",
            "i =  63  id(i) = 11258048\n",
            "i =  64  id(i) = 11258080\n",
            "i =  65  id(i) = 11258112\n",
            "i =  66  id(i) = 11258144\n",
            "i =  67  id(i) = 11258176\n",
            "i =  68  id(i) = 11258208\n",
            "i =  69  id(i) = 11258240\n",
            "i =  70  id(i) = 11258272\n",
            "i =  71  id(i) = 11258304\n",
            "i =  72  id(i) = 11258336\n",
            "i =  73  id(i) = 11258368\n",
            "i =  74  id(i) = 11258400\n",
            "i =  75  id(i) = 11258432\n",
            "i =  76  id(i) = 11258464\n",
            "i =  77  id(i) = 11258496\n",
            "i =  78  id(i) = 11258528\n",
            "i =  79  id(i) = 11258560\n",
            "i =  80  id(i) = 11258592\n",
            "i =  81  id(i) = 11258624\n",
            "i =  82  id(i) = 11258656\n",
            "i =  83  id(i) = 11258688\n",
            "i =  84  id(i) = 11258720\n",
            "i =  85  id(i) = 11258752\n",
            "i =  86  id(i) = 11258784\n",
            "i =  87  id(i) = 11258816\n",
            "i =  88  id(i) = 11258848\n",
            "i =  89  id(i) = 11258880\n",
            "i =  90  id(i) = 11258912\n",
            "i =  91  id(i) = 11258944\n",
            "i =  92  id(i) = 11258976\n",
            "i =  93  id(i) = 11259008\n",
            "i =  94  id(i) = 11259040\n",
            "i =  95  id(i) = 11259072\n",
            "i =  96  id(i) = 11259104\n",
            "i =  97  id(i) = 11259136\n",
            "i =  98  id(i) = 11259168\n",
            "i =  99  id(i) = 11259200\n",
            "i = 100  id(i) = 11259232\n"
          ]
        }
      ]
    },
    {
      "cell_type": "markdown",
      "source": [
        "# 02 기본 자료구조와 배열"
      ],
      "metadata": {
        "id": "GJ_uLhlHMjEP"
      }
    },
    {
      "cell_type": "markdown",
      "source": [
        "## 02 - 1 자료구조와 배열"
      ],
      "metadata": {
        "id": "2qSX3MmPMpY_"
      }
    },
    {
      "cell_type": "markdown",
      "source": [
        "### 학생 5명의 시험 점수를 입력받아 합계와 평균을 출력하기"
      ],
      "metadata": {
        "id": "EhIy6bXtMs_v"
      }
    },
    {
      "cell_type": "code",
      "source": [
        "print('학생 그룹 점수의 합계와 평균을 구합니다.')\n",
        "\n",
        "score1 = int(input('1번 학생의 점수를 입력하세요 : '))\n",
        "score2 = int(input('2번 학생의 점수를 입력하세요 : '))\n",
        "score3 = int(input('3번 학생의 점수를 입력하세요 : '))\n",
        "score4 = int(input('4번 학생의 점수를 입력하세요 : '))\n",
        "score5 = int(input('5번 학생의 점수를 입력하세요 : '))\n",
        "\n",
        "total = 0\n",
        "total += score1\n",
        "total += score2\n",
        "total += score3\n",
        "total += score4\n",
        "total += score5\n",
        "\n",
        "print(f'합계는 {total}점입니다.')\n",
        "print(f'평균은 {total / 5}점입니다.')"
      ],
      "metadata": {
        "colab": {
          "base_uri": "https://localhost:8080/"
        },
        "id": "G5WOzbi-Mr3n",
        "outputId": "058da269-f613-45fc-fe41-69458028c593"
      },
      "execution_count": null,
      "outputs": [
        {
          "output_type": "stream",
          "name": "stdout",
          "text": [
            "학생 그룹 점수의 합계와 평균을 구합니다.\n",
            "1번 학생의 점수를 입력하세요 : 50\n",
            "2번 학생의 점수를 입력하세요 : 69\n",
            "3번 학생의 점수를 입력하세요 : 80\n",
            "4번 학생의 점수를 입력하세요 : 55\n",
            "5번 학생의 점수를 입력하세요 : 40\n",
            "합계는 294점입니다.\n",
            "평균은 58.8점입니다.\n"
          ]
        }
      ]
    },
    {
      "cell_type": "markdown",
      "source": [
        "### 배열의 정의(이론)\n",
        "\n",
        "하나의 값을 저장하는 변수가 아닌 묶음 단위로 값을 저장하는 자료구조.\n",
        "\n",
        "배열에 저장된 객체 하나하나를 원소라고 한다."
      ],
      "metadata": {
        "id": "fZChkhccNZPg"
      }
    },
    {
      "cell_type": "markdown",
      "source": [
        "### 리스트와 튜플(이론)\n",
        "\n",
        "배열을 리스트와 튜플로 구현 가능하다.\n",
        "\n",
        "이들을 '데이터 컨테이너' 라고 하고 리스트는 '원소를 변경 가능한' 뮤터블 객체, 튜플은 '원소 변경이 불가능한' 이뮤터블 자료형이다."
      ],
      "metadata": {
        "id": "hdvyOfflNhYg"
      }
    },
    {
      "cell_type": "markdown",
      "source": [
        "### 리스트 상세 설명"
      ],
      "metadata": {
        "id": "8xl-OkoTXWBU"
      }
    },
    {
      "cell_type": "code",
      "source": [
        "list01 = [] # [] 빈 리스트\n",
        "list02 = [1,2,3] # [1,2,3]\n",
        "list03 = ['A', 'B', 'C', ] # ['A', 'B', 'C'] 맨 마지막 원소에 쉼표를 써도 됨\n",
        "\n",
        "list04 = list() # [] 빈 리스트\n",
        "list05 = list('ABC') # ['A', 'B', 'C'] 문자열의 각 문자로부터 원소를 생성\n",
        "list06 = list([1,2,3]) # [1,2,3] 리스트로부터 원소를 생성\n",
        "list07 = list((1,2,3)) # [1,2,3] 리스트로부터 원소를 생성\n",
        "list08 = list({1,2,3}) # [1,2,3] 리스트로부터 원소를 생성\n",
        "\n",
        "list09 = list(range(7)) # [0,1,2,3,4,5,6]\n",
        "list10 = list(range(3,8)) # [3,4,5,6,7]\n",
        "list11 = list(range(3,13,2)) # [3,5,7,9,11]\n",
        "\n",
        "list12 = [None] * 5 # [None, None, None, None, None,]\n",
        "\n",
        "'''\n",
        "리스트의 원소 개수는 만들기 전에 반드시 결정해야함.\n",
        "원솟값을 가지지 않는 리스트는 None을 사용하면 만들 수 있다.\n",
        "문자열 자료형도 곱셈 연산자 *로 같은 값을 반복하는 문자열로 만들 수 있다.\n",
        "'''"
      ],
      "metadata": {
        "id": "N3CkGb4Cefgx"
      },
      "execution_count": null,
      "outputs": []
    },
    {
      "cell_type": "markdown",
      "source": [
        "### 튜플 상세 설명\n",
        "\n",
        "\n",
        "\n"
      ],
      "metadata": {
        "id": "Qrp9AtJneKqx"
      }
    },
    {
      "cell_type": "code",
      "source": [
        "tuple01 = () # () 빈 튜플\n",
        "tuple02 = 1, # (1,)\n",
        "tuple03 = (1,) # (1,)\n",
        "\n",
        "tuple04 = 1,2,3 # (1,2,3)\n",
        "tuple05 = 1,2,3, # (1,2,3)\n",
        "tuple06 = (1,2,3) # (1,2,3)\n",
        "tuple07 = (1,2,3,) # (1,2,3)\n",
        "tuple08 = 'A', 'B', 'C', # ('A', 'B', 'C')\n",
        "\n",
        "v01 = 1 # 1\n",
        "v02 = (1) # 1. 원소가 1개인 경우 원소 뒤에 쉼표를 반드시 입력해야 한다. 그렇지 않으면 단순 변수로 여김.\n",
        "\n",
        "tuple09 = tuple() # () 빈 튜플\n",
        "tuple10 = tuple('ABC') # ('A', 'B', 'C')\n",
        "tuple11 = tuple([1,2,3]) # (1,2,3) 리스트로부터 원소를 생성\n",
        "tuple12 = tuple({1,2,3}) # {1,2,3} 집합으로부터 원소를 생성\n",
        "\n",
        "tuple13 = tuple(range(7)) # (0,1,2,3,4,5,6)\n",
        "tuple14 = tuple(range(3,8)) # (3,4,5,6,7)\n",
        "tuple15 = tuple(range(3,13,2)) # (3,5,7,9,11)"
      ],
      "metadata": {
        "id": "_RrLO2Yr30Za"
      },
      "execution_count": null,
      "outputs": []
    },
    {
      "cell_type": "markdown",
      "source": [
        "### 언팩(unpack)(이론)\n",
        "좌변에는 여러 개의 변수를 놓고 우변에는 리스트나 튜플을 놓으면, 우변의 원소를 좌변의 변수에 한번에 대입할 수 있다.\n",
        "\n",
        "이와 같이 리스트나 튜플의 원솟값들을 풀어 여러 변수에 대입하는 것을 '언팩'이라 한다.\n",
        "\n",
        "밑의 코드는 예시이다."
      ],
      "metadata": {
        "id": "LSdZ44zrrRP_"
      }
    },
    {
      "cell_type": "code",
      "source": [
        "x = [1,2,3]\n",
        "a,b,c = x\n",
        "a,b,c"
      ],
      "metadata": {
        "colab": {
          "base_uri": "https://localhost:8080/"
        },
        "id": "CPSJ3iVurxkf",
        "outputId": "883cdfb1-e3bc-4c52-938a-ba732bcc0570"
      },
      "execution_count": null,
      "outputs": [
        {
          "output_type": "execute_result",
          "data": {
            "text/plain": [
              "(1, 2, 3)"
            ]
          },
          "metadata": {},
          "execution_count": 8
        }
      ]
    },
    {
      "cell_type": "markdown",
      "source": [
        "### 인덱스로 원소에 접근하기"
      ],
      "metadata": {
        "id": "WXD7HzzEs_bn"
      }
    }
  ]
}